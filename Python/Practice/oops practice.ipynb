{
  "nbformat": 4,
  "nbformat_minor": 0,
  "metadata": {
    "colab": {
      "provenance": [],
      "authorship_tag": "ABX9TyMpldXYA1j70pO8W2FIzrF7",
      "include_colab_link": true
    },
    "kernelspec": {
      "name": "python3",
      "display_name": "Python 3"
    },
    "language_info": {
      "name": "python"
    }
  },
  "cells": [
    {
      "cell_type": "markdown",
      "metadata": {
        "id": "view-in-github",
        "colab_type": "text"
      },
      "source": [
        "<a href=\"https://colab.research.google.com/github/MungarllaSaiCharitha/MungarllaSaiCharithaYadav_Scifor/blob/main/Python/Practice/oops%20practice.ipynb\" target=\"_parent\"><img src=\"https://colab.research.google.com/assets/colab-badge.svg\" alt=\"Open In Colab\"/></a>"
      ]
    },
    {
      "cell_type": "markdown",
      "source": [
        "Write a  Python program to create a class representing a Circle. Include methods to calculate its area and perimeter."
      ],
      "metadata": {
        "id": "TX7tqdti1Oss"
      }
    },
    {
      "cell_type": "code",
      "source": [
        "import math\n",
        "class Circle:\n",
        "  def __init__(self, redius):\n",
        "    self.radius = radius\n",
        "  def area(self):\n",
        "    area= math.pi*radius**2\n",
        "    print(\"area:\",area)\n",
        "  def peri(self):\n",
        "    peri= 2*math.pi*radius\n",
        "    print(\"peri:\",peri)\n",
        "radius=int(input(\"enter:\"))\n",
        "circle = Circle(radius)\n",
        "circle.area()\n",
        "circle.peri()"
      ],
      "metadata": {
        "id": "QdXWcOvk1Soe",
        "colab": {
          "base_uri": "https://localhost:8080/"
        },
        "outputId": "9ef9329a-ca34-47ce-e046-b7d7f37f2037"
      },
      "execution_count": null,
      "outputs": [
        {
          "output_type": "stream",
          "name": "stdout",
          "text": [
            "enter:4\n",
            "area: 50.26548245743669\n",
            "peri: 25.132741228718345\n"
          ]
        }
      ]
    },
    {
      "cell_type": "markdown",
      "source": [
        "Write a  Python program to create a person class. Include attributes like name, country and date of birth. Implement a method to determine the person's age."
      ],
      "metadata": {
        "id": "8YZIXYxODcIK"
      }
    },
    {
      "cell_type": "code",
      "source": [
        "from datetime import date\n",
        "class Person:\n",
        "  def __init__(self,name,country,dob):\n",
        "    self.name=name\n",
        "    self.country = country\n",
        "    self.dob=dob\n",
        "  def age(self):\n",
        "    today = date.today()\n",
        "    age = today.year - self.dob.year\n",
        "    if today < date( today.year, self.dob.month, self.dob.day):\n",
        "      age-=1\n",
        "    return age\n",
        "person = Person(\"charitha\", \"India\", date(2004,2,23))\n",
        "print(person.name)\n",
        "print(person.country)\n",
        "print(person.dob)\n",
        "print(person.age())"
      ],
      "metadata": {
        "colab": {
          "base_uri": "https://localhost:8080/"
        },
        "id": "Ma-OaqTaDgN6",
        "outputId": "bd64da40-fa23-4b4e-cc2b-e67ebb7a843b"
      },
      "execution_count": null,
      "outputs": [
        {
          "output_type": "stream",
          "name": "stdout",
          "text": [
            "charitha\n",
            "India\n",
            "2004-02-23\n",
            "20\n"
          ]
        }
      ]
    },
    {
      "cell_type": "markdown",
      "source": [
        "Write a Python program to create a calculator class. Include methods for basic arithmetic operations."
      ],
      "metadata": {
        "id": "3rhxsGdDGmV2"
      }
    },
    {
      "cell_type": "code",
      "source": [
        "class Calculator:\n",
        "  def __init__(self,num1,num2,operator):\n",
        "    self.num1=num1\n",
        "    self.num2=num2\n",
        "    self.operator=operator\n",
        "  def calculate(self):\n",
        "    if (self.operator == \"+\"):\n",
        "      return (self.num1+self.num2)\n",
        "    elif self.operator == '-':\n",
        "      return (self.num1-self.num2)\n",
        "    elif self.operator == '*':\n",
        "      return (self.num1*self.num2)\n",
        "    elif self.operator == '/':\n",
        "      return (self.num1/self.num2)\n",
        "cal=Calculator(12,2,\"+\")\n",
        "cal.calculate()"
      ],
      "metadata": {
        "colab": {
          "base_uri": "https://localhost:8080/"
        },
        "id": "yV_677WSGtrO",
        "outputId": "85ce226a-ff53-41c1-8af4-6066053d7445"
      },
      "execution_count": null,
      "outputs": [
        {
          "output_type": "execute_result",
          "data": {
            "text/plain": [
              "14"
            ]
          },
          "metadata": {},
          "execution_count": 25
        }
      ]
    },
    {
      "cell_type": "markdown",
      "source": [
        "Write a Python program to create a class that represents a shape. Include methods to calculate its area and perimeter. Implement subclasses for different shapes like circle, triangle, and square."
      ],
      "metadata": {
        "id": "iZDeY3YUIzFU"
      }
    },
    {
      "cell_type": "code",
      "source": [
        "import math\n",
        "\n",
        "class Shape:\n",
        "    def area(self):\n",
        "        pass\n",
        "\n",
        "    def perimeter(self):\n",
        "        pass\n",
        "\n",
        "class Circle(Shape):\n",
        "    def __init__(self, radius):\n",
        "        self.radius = radius\n",
        "\n",
        "    def area(self):\n",
        "        return math.pi * self.radius ** 2\n",
        "\n",
        "    def perimeter(self):\n",
        "        return 2 * math.pi * self.radius\n",
        "\n",
        "class Triangle(Shape):\n",
        "    def __init__(self, a, b, c):\n",
        "        self.a = a\n",
        "        self.b = b\n",
        "        self.c = c\n",
        "\n",
        "    def area(self):\n",
        "        # Using Heron's formula\n",
        "        s = (self.a + self.b + self.c) / 2\n",
        "        return math.sqrt(s * (s - self.a) * (s - self.b) * (s - self.c))\n",
        "\n",
        "    def perimeter(self):\n",
        "        return self.a + self.b + self.c\n",
        "\n",
        "class Square(Shape):\n",
        "    def __init__(self, side):\n",
        "        self.side = side\n",
        "\n",
        "    def area(self):\n",
        "        return self.side ** 2\n",
        "\n",
        "    def perimeter(self):\n",
        "        return 4 * self.side\n",
        "\n",
        "# Example usage\n",
        "shapes = [\n",
        "    Circle(radius=5),\n",
        "    Triangle(a=3, b=4, c=5),\n",
        "    Square(side=4)\n",
        "]\n",
        "\n",
        "for shape in shapes:\n",
        "    print(f\"{shape.__class__.__name__}:\")\n",
        "    print(f\"  Area: {shape.area()}\")\n",
        "    print(f\"  Perimeter: {shape.perimeter()}\")\n",
        "    print()\n"
      ],
      "metadata": {
        "colab": {
          "base_uri": "https://localhost:8080/"
        },
        "id": "ePFAJlexJNFm",
        "outputId": "d1e36086-cdac-4e7d-b034-056c54eef974"
      },
      "execution_count": null,
      "outputs": [
        {
          "output_type": "stream",
          "name": "stdout",
          "text": [
            "Circle:\n",
            "  Area: 78.53981633974483\n",
            "  Perimeter: 31.41592653589793\n",
            "\n",
            "Triangle:\n",
            "  Area: 6.0\n",
            "  Perimeter: 12\n",
            "\n",
            "Square:\n",
            "  Area: 16\n",
            "  Perimeter: 16\n",
            "\n"
          ]
        }
      ]
    },
    {
      "cell_type": "code",
      "source": [
        "class Demo:\n",
        "    def __init__(self):\n",
        "        self.a = 1\n",
        "        self.__b = 1\n",
        "\n",
        "    def display(self):\n",
        "        return self.__b\n",
        "\n",
        "obj = Demo()\n",
        "print(obj._Demo__b)"
      ],
      "metadata": {
        "id": "4hU56oTxKSRA",
        "outputId": "347c4a07-a54b-4e65-a428-5e3be8bb9437",
        "colab": {
          "base_uri": "https://localhost:8080/"
        }
      },
      "execution_count": null,
      "outputs": [
        {
          "output_type": "stream",
          "name": "stdout",
          "text": [
            "1\n"
          ]
        }
      ]
    }
  ]
}