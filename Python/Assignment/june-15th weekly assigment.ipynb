{
  "nbformat": 4,
  "nbformat_minor": 0,
  "metadata": {
    "colab": {
      "provenance": []
    },
    "kernelspec": {
      "name": "python3",
      "display_name": "Python 3"
    },
    "language_info": {
      "name": "python"
    }
  },
  "cells": [
    {
      "cell_type": "markdown",
      "source": [
        "# **Encapsulation:**\n",
        "\n",
        "Encapsulation is the process of bundling data and methods into a single unit, which enhances security by limiting direct access to the object's components and preventing data misuse. Access specifiers are used to secure data within this unit. There are three main types of access specifiers: Public members can be accessed from outside the class, private members can only be accessed within the class itself.\n",
        "\n",
        "# **Advantages:**\n",
        "\n",
        "It provides enhanced security, as it protects data from unauthorized access and modification. It also offers a simplified interface, making it easier to interact with the object without needing to understand its internal workings. Additionally, encapsulation allows for greater flexibility and maintainability, as changes to the internal implementation can be made without affecting external code that relies on the object."
      ],
      "metadata": {
        "id": "6Nc_atnj9lQs"
      }
    },
    {
      "cell_type": "code",
      "source": [
        "class Library:\n",
        "    def __init__(self, books):\n",
        "        self.__books = books\n",
        "    def display_books(self):\n",
        "        print(\"Available books:\")\n",
        "        for book in self.__books:\n",
        "            print(f\"- {book}\")\n",
        "    def borrow_book(self, book_name):\n",
        "        if book_name in self.__books:\n",
        "            self.__books.remove(book_name)\n",
        "            print(f\"You have borrowed '{book_name}'.\")\n",
        "        else:\n",
        "            print(f\"'{book_name}' is not available.\")\n",
        "    def return_book(self, book_name):\n",
        "        self.__books.append(book_name)\n",
        "        print(f\"You have returned '{book_name}'.\")\n",
        "library = Library([\"The Great Gatsby\", \"1984\", \"To Kill a Mockingbird\", \"The Catcher in the Rye\"])\n",
        "\n",
        "library.display_books()\n",
        "\n",
        "library.borrow_book(\"1984\")\n",
        "\n",
        "library.display_books()\n",
        "\n",
        "library.return_book(\"1984\")\n",
        "\n",
        "library.display_books()\n",
        "\n",
        "print(library._Library__books)\n"
      ],
      "metadata": {
        "colab": {
          "base_uri": "https://localhost:8080/"
        },
        "id": "qtB-AIpI92Ea",
        "outputId": "eaab97b3-ed9f-4e45-8eab-425e7316ffbf"
      },
      "execution_count": 2,
      "outputs": [
        {
          "output_type": "stream",
          "name": "stdout",
          "text": [
            "Available books:\n",
            "- The Great Gatsby\n",
            "- 1984\n",
            "- To Kill a Mockingbird\n",
            "- The Catcher in the Rye\n",
            "You have borrowed '1984'.\n",
            "Available books:\n",
            "- The Great Gatsby\n",
            "- To Kill a Mockingbird\n",
            "- The Catcher in the Rye\n",
            "You have returned '1984'.\n",
            "Available books:\n",
            "- The Great Gatsby\n",
            "- To Kill a Mockingbird\n",
            "- The Catcher in the Rye\n",
            "- 1984\n",
            "['The Great Gatsby', 'To Kill a Mockingbird', 'The Catcher in the Rye', '1984']\n"
          ]
        }
      ]
    },
    {
      "cell_type": "markdown",
      "source": [
        "We create an instance of the Library class with an initial list of books.\n",
        "We use the display_books method to show the available books.\n",
        "We use the borrow_book method to borrow a book from the library. The book is removed from the list of available books.\n",
        "We use the return_book method to return a borrowed book to the library. The book is added back to the list of available books.\n",
        "Attempting to access the private attribute __books directly will result in an error, demonstrating encapsulation.\n",
        "\n",
        "\n",
        "By encapsulating the list of books within the Library class, we ensure that the list can only be modified through well-defined methods, providing better control and management of the library's data."
      ],
      "metadata": {
        "id": "hRyEZuYZ-1S_"
      }
    },
    {
      "cell_type": "code",
      "source": [],
      "metadata": {
        "id": "ZdeDwp3V_IZ2"
      },
      "execution_count": null,
      "outputs": []
    }
  ]
}