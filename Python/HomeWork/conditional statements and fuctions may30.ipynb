{
  "nbformat": 4,
  "nbformat_minor": 0,
  "metadata": {
    "colab": {
      "provenance": [],
      "authorship_tag": "ABX9TyOSGktmIXLBanQ5UNEvdOyr",
      "include_colab_link": true
    },
    "kernelspec": {
      "name": "python3",
      "display_name": "Python 3"
    },
    "language_info": {
      "name": "python"
    }
  },
  "cells": [
    {
      "cell_type": "markdown",
      "metadata": {
        "id": "view-in-github",
        "colab_type": "text"
      },
      "source": [
        "<a href=\"https://colab.research.google.com/github/MungarllaSaiCharitha/MungarllaSaiCharithaYadav_Scifor/blob/main/Python/HomeWork/conditional%20statements%20and%20fuctions%20may30.ipynb\" target=\"_parent\"><img src=\"https://colab.research.google.com/assets/colab-badge.svg\" alt=\"Open In Colab\"/></a>"
      ]
    },
    {
      "cell_type": "markdown",
      "source": [
        "**PYTHON HOME WORK**\n",
        "\n",
        "*Conditional* *Statements*\n",
        "\n",
        "1. Write a program that takes a character and returns true if it is a vowel, false otherwise."
      ],
      "metadata": {
        "id": "CBY8mmryBcFj"
      }
    },
    {
      "cell_type": "code",
      "source": [
        "character = input(\"enter character: \")\n",
        "if character in \"aeiouAEIOU\":\n",
        "    print(\"The input character is a vowel\")\n",
        "else:\n",
        "    print(\"The entered character is not a vowel\")"
      ],
      "metadata": {
        "colab": {
          "base_uri": "https://localhost:8080/"
        },
        "id": "zC5hWzf4BzaR",
        "outputId": "c78bf697-e817-4411-becc-4a89954a21d7"
      },
      "execution_count": 1,
      "outputs": [
        {
          "output_type": "stream",
          "name": "stdout",
          "text": [
            "enter character: e\n",
            "The input character is a vowel\n"
          ]
        }
      ]
    },
    {
      "cell_type": "markdown",
      "source": [
        "*2. Password* *validation.*"
      ],
      "metadata": {
        "id": "l-HrrXZPB1oU"
      }
    },
    {
      "cell_type": "code",
      "source": [
        "enter = input(\"enter password: \")\n",
        "correct_password = \"Python\"\n",
        "if enter == correct_password:\n",
        "    print(\"password is correct, proceed\")\n",
        "else:\n",
        "    print(\"password is incorrect\")"
      ],
      "metadata": {
        "colab": {
          "base_uri": "https://localhost:8080/"
        },
        "id": "MDLQ8rHgB_GS",
        "outputId": "1a365bd2-9220-470e-b606-9450b011fa55"
      },
      "execution_count": 2,
      "outputs": [
        {
          "output_type": "stream",
          "name": "stdout",
          "text": [
            "enter password: Python\n",
            "password is correct, proceed\n"
          ]
        }
      ]
    },
    {
      "cell_type": "markdown",
      "source": [
        "3. Check the whether the entered year is leap year or not"
      ],
      "metadata": {
        "id": "rzditakmCD9M"
      }
    },
    {
      "cell_type": "code",
      "source": [
        "year=int(input(\"enter year: \"))\n",
        "if year % 400 == 0 and year % 100 == 0:\n",
        "    print(year,\"is leap year\")\n",
        "elif year % 4 == 0 and year % 100 != 0:\n",
        "    print(year,\"is a leap year\")\n",
        "else:\n",
        "    print(year,\"is not a leap year\")"
      ],
      "metadata": {
        "colab": {
          "base_uri": "https://localhost:8080/"
        },
        "id": "J777CqxyCJyW",
        "outputId": "1d05b57f-fc8b-4d97-d942-404c31765d50"
      },
      "execution_count": 3,
      "outputs": [
        {
          "output_type": "stream",
          "name": "stdout",
          "text": [
            "enter year: 2000\n",
            "2000 is leap year\n"
          ]
        }
      ]
    },
    {
      "cell_type": "markdown",
      "source": [
        "**FUNCTIONS**\n",
        "\n",
        "1. write a function that computes power of a number"
      ],
      "metadata": {
        "id": "jolLvY67CNn8"
      }
    },
    {
      "cell_type": "code",
      "source": [
        "def power(base, exponent):\n",
        "    return base ** exponent\n",
        "\n",
        "print(power(2, 3))\n",
        "print(power(5, 4))"
      ],
      "metadata": {
        "colab": {
          "base_uri": "https://localhost:8080/"
        },
        "id": "8opSvoxPCThx",
        "outputId": "ea884ae6-ce8f-4cc6-f709-a083522885c1"
      },
      "execution_count": 4,
      "outputs": [
        {
          "output_type": "stream",
          "name": "stdout",
          "text": [
            "8\n",
            "625\n"
          ]
        }
      ]
    },
    {
      "cell_type": "markdown",
      "source": [
        "2. write a function that akes 1st and last names and then greets a person"
      ],
      "metadata": {
        "id": "OeqxSNCmCVrI"
      }
    },
    {
      "cell_type": "code",
      "source": [
        "def greeting(first_name, last_name):\n",
        "    greet = \"Hello \" + first_name + \" \" + last_name\n",
        "    return greet\n",
        "first_name=input(\"enter first name: \")\n",
        "last_name = input('enter last_name: ')\n",
        "greeting(first_name, last_name)"
      ],
      "metadata": {
        "colab": {
          "base_uri": "https://localhost:8080/",
          "height": 70
        },
        "id": "rxR5zQiGCY1T",
        "outputId": "0f24c855-9990-4e75-f14a-591a74f251de"
      },
      "execution_count": 5,
      "outputs": [
        {
          "name": "stdout",
          "output_type": "stream",
          "text": [
            "enter first name: Sai Charitha\n",
            "enter last_name: Yadav\n"
          ]
        },
        {
          "output_type": "execute_result",
          "data": {
            "text/plain": [
              "'Hello Sai Charitha Yadav'"
            ],
            "application/vnd.google.colaboratory.intrinsic+json": {
              "type": "string"
            }
          },
          "metadata": {},
          "execution_count": 5
        }
      ]
    },
    {
      "cell_type": "markdown",
      "source": [
        "3. Calculator\n",
        "\n",
        "write a function that takes num1, num2, operator and compute the desired operation. Return and show the desired result in your screen"
      ],
      "metadata": {
        "id": "G35jl9RzCe3u"
      }
    },
    {
      "cell_type": "code",
      "source": [
        "def calculate(num1, num2, operator):\n",
        "    if operator == \"+\":\n",
        "        result = num1 + num2\n",
        "    elif operator == \"-\":\n",
        "        result = num1 - num2\n",
        "    elif operator == \"*\":\n",
        "        result = num1 * num2\n",
        "    elif operator == \"/\":\n",
        "        if num2 !=0:\n",
        "            result = num1/num2\n",
        "        else:\n",
        "            return \"Error\"\n",
        "    return result\n",
        "\n",
        "num1 = int(input(\"enter number1: \"))\n",
        "num2 = int(input(\"enter number2: \"))\n",
        "operator = input(\"enter operator (+, -, *, /) : \")\n",
        "print(calculate(num1, num2, operator))"
      ],
      "metadata": {
        "colab": {
          "base_uri": "https://localhost:8080/"
        },
        "id": "9uuX_O9LCioH",
        "outputId": "ac6b1bb3-1790-4725-acf8-fe42d7b7b7c6"
      },
      "execution_count": 6,
      "outputs": [
        {
          "output_type": "stream",
          "name": "stdout",
          "text": [
            "enter number1: 12\n",
            "enter number2: 2\n",
            "enter operator (+, -, *, /) : /\n",
            "6.0\n"
          ]
        }
      ]
    }
  ]
}