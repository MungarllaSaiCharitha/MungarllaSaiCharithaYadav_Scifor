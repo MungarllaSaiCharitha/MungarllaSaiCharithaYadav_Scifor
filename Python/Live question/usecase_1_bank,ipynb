{
  "nbformat": 4,
  "nbformat_minor": 0,
  "metadata": {
    "colab": {
      "provenance": [],
      "authorship_tag": "ABX9TyP9yiDx67CgNpscK5+KHMbY",
      "include_colab_link": true
    },
    "kernelspec": {
      "name": "python3",
      "display_name": "Python 3"
    },
    "language_info": {
      "name": "python"
    }
  },
  "cells": [
    {
      "cell_type": "markdown",
      "metadata": {
        "id": "view-in-github",
        "colab_type": "text"
      },
      "source": [
        "<a href=\"https://colab.research.google.com/github/MungarllaSaiCharitha/MungarllaSaiCharithaYadav_Scifor/blob/main/Python/Live%20question/usecase_1_bank%2Cipynb\" target=\"_parent\"><img src=\"https://colab.research.google.com/assets/colab-badge.svg\" alt=\"Open In Colab\"/></a>"
      ]
    },
    {
      "cell_type": "markdown",
      "source": [
        "Use case of Oops\n",
        "\n",
        "You have to make a Bank class which have two case executing\n",
        "1. Withdrawal\n",
        "2. Deposit\n",
        "\n",
        "And the Edge case will be ATM  Pin Verification\n",
        "\n",
        "In details\n",
        "\n",
        "Once your ATM pin will get verified then only you can withdrawal and it also shows withdrawal amount as well existing balance\n",
        "\n",
        "And same goes for second case, after verification of pin your deposition of amount take place it should show deposited amount and existing balance after deposit take place\n",
        "\n",
        "And if you encounter incorrect pin then your program should give the output invalid pin\n"
      ],
      "metadata": {
        "id": "faBZVtk2JRzW"
      }
    },
    {
      "cell_type": "code",
      "source": [
        "class BankAccount:\n",
        "    def __init__(self, initial_balance, atm_pin):\n",
        "        self.balance = initial_balance\n",
        "        self.atm_pin = atm_pin\n",
        "\n",
        "    def verify_atm_pin(self, entered_pin):\n",
        "        if self.atm_pin == entered_pin:\n",
        "            return True\n",
        "        else:\n",
        "            return False\n",
        "\n",
        "    def deposit(self, amount, entered_pin):\n",
        "        if self.verify_atm_pin(entered_pin):\n",
        "            if amount > 0:\n",
        "                self.balance += amount\n",
        "                print(f\"Deposited {amount}. New balance is {self.balance}.\")\n",
        "            else:\n",
        "                print(\"Deposit amount must be positive.\")\n",
        "        else:\n",
        "            print(\"Invalid ATM PIN.\")\n",
        "\n",
        "    def withdraw(self, amount, entered_pin):\n",
        "        if self.verify_atm_pin(entered_pin):\n",
        "            if amount <= self.balance:\n",
        "                self.balance -= amount\n",
        "                print(f\"Withdrew {amount}. New balance is {self.balance}.\")\n",
        "            else:\n",
        "                print(\"Insufficient funds.\")\n",
        "        else:\n",
        "            print(\"Invalid ATM PIN.\")\n",
        "\n",
        "    def show_balance(self):\n",
        "        print(f\"Current balance is {self.balance}.\")\n",
        "initial_balance = float(input(\"Enter initial balance: \"))\n",
        "atm_pin = int(input(\"Set your ATM PIN: \"))\n",
        "account = BankAccount(initial_balance, atm_pin)\n",
        "\n",
        "while True:\n",
        "    print(\"\\n1. Withdraw\")\n",
        "    print(\"2. Deposit\")\n",
        "    print(\"3. Check Balance\")\n",
        "    print(\"4. Exit\")\n",
        "    choice = int(input(\"Enter your choice: \"))\n",
        "\n",
        "    if choice == 1:\n",
        "        amount = float(input(\"Enter amount to withdraw: \"))\n",
        "        entered_pin = int(input(\"Enter ATM PIN: \"))\n",
        "        account.withdraw(amount, entered_pin)\n",
        "\n",
        "    elif choice == 2:\n",
        "        amount = float(input(\"Enter amount to deposit: \"))\n",
        "        entered_pin = int(input(\"Enter ATM PIN: \"))\n",
        "        account.deposit(amount, entered_pin)\n",
        "\n",
        "    elif choice == 3:\n",
        "        account.show_balance()\n",
        "\n",
        "    elif choice == 4:\n",
        "        print(\"Exiting...\")\n",
        "        break\n",
        "\n",
        "    else:\n",
        "        print(\"Invalid choice. Please try again.\")\n"
      ],
      "metadata": {
        "colab": {
          "base_uri": "https://localhost:8080/"
        },
        "id": "bqq3jmfPRGHj",
        "outputId": "b85a70f1-4ba3-479f-cbff-d77dc60e5ee5"
      },
      "execution_count": 3,
      "outputs": [
        {
          "output_type": "stream",
          "name": "stdout",
          "text": [
            "Enter initial balance: 10000\n",
            "Set your ATM PIN: 1234\n",
            "\n",
            "1. Withdraw\n",
            "2. Deposit\n",
            "3. Check Balance\n",
            "4. Exit\n",
            "Enter your choice: 1\n",
            "Enter amount to withdraw: 2000\n",
            "Enter ATM PIN: 1234\n",
            "Withdrew 2000.0. New balance is 8000.0.\n",
            "\n",
            "1. Withdraw\n",
            "2. Deposit\n",
            "3. Check Balance\n",
            "4. Exit\n",
            "Enter your choice: 2\n",
            "Enter amount to deposit: 1000\n",
            "Enter ATM PIN: 1234\n",
            "Deposited 1000.0. New balance is 9000.0.\n",
            "\n",
            "1. Withdraw\n",
            "2. Deposit\n",
            "3. Check Balance\n",
            "4. Exit\n",
            "Enter your choice: 3\n",
            "Current balance is 9000.0.\n",
            "\n",
            "1. Withdraw\n",
            "2. Deposit\n",
            "3. Check Balance\n",
            "4. Exit\n",
            "Enter your choice: 4\n",
            "Exiting...\n"
          ]
        }
      ]
    }
  ]
}