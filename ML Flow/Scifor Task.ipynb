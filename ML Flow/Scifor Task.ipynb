{
 "cells": [
  {
   "cell_type": "code",
   "execution_count": 0,
   "metadata": {
    "application/vnd.databricks.v1+cell": {
     "cellMetadata": {
      "byteLimit": 2048000,
      "rowLimit": 10000
     },
     "inputWidgets": {},
     "nuid": "7f2dd958-02ba-4705-b587-e965a131ef50",
     "showTitle": false,
     "title": ""
    }
   },
   "outputs": [
    {
     "output_type": "stream",
     "name": "stdout",
     "output_type": "stream",
     "text": [
      "\u001B[43mNote: you may need to restart the kernel using dbutils.library.restartPython() to use updated packages.\u001B[0m\nRequirement already satisfied: mlflow in /local_disk0/.ephemeral_nfs/envs/pythonEnv-28da6624-54d1-4c97-9ffe-65306ee1ad4e/lib/python3.10/site-packages (2.15.1)\nRequirement already satisfied: scikit-learn<2 in /databricks/python3/lib/python3.10/site-packages (from mlflow) (1.1.1)\nRequirement already satisfied: pyarrow<16,>=4.0.0 in /databricks/python3/lib/python3.10/site-packages (from mlflow) (8.0.0)\nRequirement already satisfied: mlflow-skinny==2.15.1 in /local_disk0/.ephemeral_nfs/envs/pythonEnv-28da6624-54d1-4c97-9ffe-65306ee1ad4e/lib/python3.10/site-packages (from mlflow) (2.15.1)\nRequirement already satisfied: graphene<4 in /local_disk0/.ephemeral_nfs/envs/pythonEnv-28da6624-54d1-4c97-9ffe-65306ee1ad4e/lib/python3.10/site-packages (from mlflow) (3.3)\nRequirement already satisfied: querystring-parser<2 in /local_disk0/.ephemeral_nfs/envs/pythonEnv-28da6624-54d1-4c97-9ffe-65306ee1ad4e/lib/python3.10/site-packages (from mlflow) (1.2.4)\nRequirement already satisfied: Jinja2<4,>=2.11 in /local_disk0/.ephemeral_nfs/envs/pythonEnv-28da6624-54d1-4c97-9ffe-65306ee1ad4e/lib/python3.10/site-packages (from mlflow) (3.1.4)\nRequirement already satisfied: gunicorn<23 in /local_disk0/.ephemeral_nfs/envs/pythonEnv-28da6624-54d1-4c97-9ffe-65306ee1ad4e/lib/python3.10/site-packages (from mlflow) (22.0.0)\nRequirement already satisfied: pandas<3 in /databricks/python3/lib/python3.10/site-packages (from mlflow) (1.4.4)\nRequirement already satisfied: matplotlib<4 in /databricks/python3/lib/python3.10/site-packages (from mlflow) (3.5.2)\nRequirement already satisfied: alembic!=1.10.0,<2 in /local_disk0/.ephemeral_nfs/envs/pythonEnv-28da6624-54d1-4c97-9ffe-65306ee1ad4e/lib/python3.10/site-packages (from mlflow) (1.13.2)\nRequirement already satisfied: markdown<4,>=3.3 in /local_disk0/.ephemeral_nfs/envs/pythonEnv-28da6624-54d1-4c97-9ffe-65306ee1ad4e/lib/python3.10/site-packages (from mlflow) (3.7)\nRequirement already satisfied: sqlalchemy<3,>=1.4.0 in /local_disk0/.ephemeral_nfs/envs/pythonEnv-28da6624-54d1-4c97-9ffe-65306ee1ad4e/lib/python3.10/site-packages (from mlflow) (2.0.32)\nRequirement already satisfied: numpy<2 in /databricks/python3/lib/python3.10/site-packages (from mlflow) (1.21.5)\nRequirement already satisfied: docker<8,>=4.0.0 in /local_disk0/.ephemeral_nfs/envs/pythonEnv-28da6624-54d1-4c97-9ffe-65306ee1ad4e/lib/python3.10/site-packages (from mlflow) (7.1.0)\nRequirement already satisfied: scipy<2 in /databricks/python3/lib/python3.10/site-packages (from mlflow) (1.9.1)\nRequirement already satisfied: Flask<4 in /local_disk0/.ephemeral_nfs/envs/pythonEnv-28da6624-54d1-4c97-9ffe-65306ee1ad4e/lib/python3.10/site-packages (from mlflow) (3.0.3)\nRequirement already satisfied: databricks-sdk<1,>=0.20.0 in /local_disk0/.ephemeral_nfs/envs/pythonEnv-28da6624-54d1-4c97-9ffe-65306ee1ad4e/lib/python3.10/site-packages (from mlflow-skinny==2.15.1->mlflow) (0.30.0)\nRequirement already satisfied: cachetools<6,>=5.0.0 in /local_disk0/.ephemeral_nfs/envs/pythonEnv-28da6624-54d1-4c97-9ffe-65306ee1ad4e/lib/python3.10/site-packages (from mlflow-skinny==2.15.1->mlflow) (5.4.0)\nRequirement already satisfied: cloudpickle<4 in /local_disk0/.ephemeral_nfs/envs/pythonEnv-28da6624-54d1-4c97-9ffe-65306ee1ad4e/lib/python3.10/site-packages (from mlflow-skinny==2.15.1->mlflow) (3.0.0)\nRequirement already satisfied: opentelemetry-api<3,>=1.9.0 in /local_disk0/.ephemeral_nfs/envs/pythonEnv-28da6624-54d1-4c97-9ffe-65306ee1ad4e/lib/python3.10/site-packages (from mlflow-skinny==2.15.1->mlflow) (1.26.0)\nRequirement already satisfied: gitpython<4,>=3.1.9 in /local_disk0/.ephemeral_nfs/envs/pythonEnv-28da6624-54d1-4c97-9ffe-65306ee1ad4e/lib/python3.10/site-packages (from mlflow-skinny==2.15.1->mlflow) (3.1.43)\nRequirement already satisfied: importlib-metadata!=4.7.0,<8,>=3.7.0 in /local_disk0/.ephemeral_nfs/envs/pythonEnv-28da6624-54d1-4c97-9ffe-65306ee1ad4e/lib/python3.10/site-packages (from mlflow-skinny==2.15.1->mlflow) (7.2.1)\nRequirement already satisfied: pytz<2025 in /databricks/python3/lib/python3.10/site-packages (from mlflow-skinny==2.15.1->mlflow) (2022.1)\nRequirement already satisfied: opentelemetry-sdk<3,>=1.9.0 in /local_disk0/.ephemeral_nfs/envs/pythonEnv-28da6624-54d1-4c97-9ffe-65306ee1ad4e/lib/python3.10/site-packages (from mlflow-skinny==2.15.1->mlflow) (1.26.0)\nRequirement already satisfied: packaging<25 in /databricks/python3/lib/python3.10/site-packages (from mlflow-skinny==2.15.1->mlflow) (21.3)\nRequirement already satisfied: entrypoints<1 in /databricks/python3/lib/python3.10/site-packages (from mlflow-skinny==2.15.1->mlflow) (0.4)\nRequirement already satisfied: sqlparse<1,>=0.4.0 in /local_disk0/.ephemeral_nfs/envs/pythonEnv-28da6624-54d1-4c97-9ffe-65306ee1ad4e/lib/python3.10/site-packages (from mlflow-skinny==2.15.1->mlflow) (0.5.1)\nRequirement already satisfied: protobuf<6,>=3.12.0 in /databricks/python3/lib/python3.10/site-packages (from mlflow-skinny==2.15.1->mlflow) (3.19.4)\nRequirement already satisfied: pyyaml<7,>=5.1 in /local_disk0/.ephemeral_nfs/envs/pythonEnv-28da6624-54d1-4c97-9ffe-65306ee1ad4e/lib/python3.10/site-packages (from mlflow-skinny==2.15.1->mlflow) (6.0.2)\nRequirement already satisfied: requests<3,>=2.17.3 in /databricks/python3/lib/python3.10/site-packages (from mlflow-skinny==2.15.1->mlflow) (2.28.1)\nRequirement already satisfied: click<9,>=7.0 in /local_disk0/.ephemeral_nfs/envs/pythonEnv-28da6624-54d1-4c97-9ffe-65306ee1ad4e/lib/python3.10/site-packages (from mlflow-skinny==2.15.1->mlflow) (8.1.7)\nRequirement already satisfied: typing-extensions>=4 in /local_disk0/.ephemeral_nfs/envs/pythonEnv-28da6624-54d1-4c97-9ffe-65306ee1ad4e/lib/python3.10/site-packages (from alembic!=1.10.0,<2->mlflow) (4.12.2)\nRequirement already satisfied: Mako in /local_disk0/.ephemeral_nfs/envs/pythonEnv-28da6624-54d1-4c97-9ffe-65306ee1ad4e/lib/python3.10/site-packages (from alembic!=1.10.0,<2->mlflow) (1.3.5)\nRequirement already satisfied: urllib3>=1.26.0 in /databricks/python3/lib/python3.10/site-packages (from docker<8,>=4.0.0->mlflow) (1.26.11)\nRequirement already satisfied: blinker>=1.6.2 in /local_disk0/.ephemeral_nfs/envs/pythonEnv-28da6624-54d1-4c97-9ffe-65306ee1ad4e/lib/python3.10/site-packages (from Flask<4->mlflow) (1.8.2)\nRequirement already satisfied: Werkzeug>=3.0.0 in /local_disk0/.ephemeral_nfs/envs/pythonEnv-28da6624-54d1-4c97-9ffe-65306ee1ad4e/lib/python3.10/site-packages (from Flask<4->mlflow) (3.0.3)\nRequirement already satisfied: itsdangerous>=2.1.2 in /local_disk0/.ephemeral_nfs/envs/pythonEnv-28da6624-54d1-4c97-9ffe-65306ee1ad4e/lib/python3.10/site-packages (from Flask<4->mlflow) (2.2.0)\nRequirement already satisfied: graphql-relay<3.3,>=3.1 in /local_disk0/.ephemeral_nfs/envs/pythonEnv-28da6624-54d1-4c97-9ffe-65306ee1ad4e/lib/python3.10/site-packages (from graphene<4->mlflow) (3.2.0)\nRequirement already satisfied: aniso8601<10,>=8 in /local_disk0/.ephemeral_nfs/envs/pythonEnv-28da6624-54d1-4c97-9ffe-65306ee1ad4e/lib/python3.10/site-packages (from graphene<4->mlflow) (9.0.1)\nRequirement already satisfied: graphql-core<3.3,>=3.1 in /local_disk0/.ephemeral_nfs/envs/pythonEnv-28da6624-54d1-4c97-9ffe-65306ee1ad4e/lib/python3.10/site-packages (from graphene<4->mlflow) (3.2.3)\nRequirement already satisfied: MarkupSafe>=2.0 in /local_disk0/.ephemeral_nfs/envs/pythonEnv-28da6624-54d1-4c97-9ffe-65306ee1ad4e/lib/python3.10/site-packages (from Jinja2<4,>=2.11->mlflow) (2.1.5)\nRequirement already satisfied: pillow>=6.2.0 in /databricks/python3/lib/python3.10/site-packages (from matplotlib<4->mlflow) (9.2.0)\nRequirement already satisfied: cycler>=0.10 in /databricks/python3/lib/python3.10/site-packages (from matplotlib<4->mlflow) (0.11.0)\nRequirement already satisfied: python-dateutil>=2.7 in /databricks/python3/lib/python3.10/site-packages (from matplotlib<4->mlflow) (2.8.2)\nRequirement already satisfied: fonttools>=4.22.0 in /databricks/python3/lib/python3.10/site-packages (from matplotlib<4->mlflow) (4.25.0)\nRequirement already satisfied: kiwisolver>=1.0.1 in /databricks/python3/lib/python3.10/site-packages (from matplotlib<4->mlflow) (1.4.2)\nRequirement already satisfied: pyparsing>=2.2.1 in /databricks/python3/lib/python3.10/site-packages (from matplotlib<4->mlflow) (3.0.9)\nRequirement already satisfied: six in /usr/lib/python3/dist-packages (from querystring-parser<2->mlflow) (1.16.0)\nRequirement already satisfied: joblib>=1.0.0 in /databricks/python3/lib/python3.10/site-packages (from scikit-learn<2->mlflow) (1.2.0)\nRequirement already satisfied: threadpoolctl>=2.0.0 in /databricks/python3/lib/python3.10/site-packages (from scikit-learn<2->mlflow) (2.2.0)\nRequirement already satisfied: greenlet!=0.4.17 in /local_disk0/.ephemeral_nfs/envs/pythonEnv-28da6624-54d1-4c97-9ffe-65306ee1ad4e/lib/python3.10/site-packages (from sqlalchemy<3,>=1.4.0->mlflow) (3.0.3)\nRequirement already satisfied: google-auth~=2.0 in /local_disk0/.ephemeral_nfs/envs/pythonEnv-28da6624-54d1-4c97-9ffe-65306ee1ad4e/lib/python3.10/site-packages (from databricks-sdk<1,>=0.20.0->mlflow-skinny==2.15.1->mlflow) (2.33.0)\nRequirement already satisfied: gitdb<5,>=4.0.1 in /local_disk0/.ephemeral_nfs/envs/pythonEnv-28da6624-54d1-4c97-9ffe-65306ee1ad4e/lib/python3.10/site-packages (from gitpython<4,>=3.1.9->mlflow-skinny==2.15.1->mlflow) (4.0.11)\nRequirement already satisfied: zipp>=0.5 in /usr/lib/python3/dist-packages (from importlib-metadata!=4.7.0,<8,>=3.7.0->mlflow-skinny==2.15.1->mlflow) (1.0.0)\nRequirement already satisfied: deprecated>=1.2.6 in /local_disk0/.ephemeral_nfs/envs/pythonEnv-28da6624-54d1-4c97-9ffe-65306ee1ad4e/lib/python3.10/site-packages (from opentelemetry-api<3,>=1.9.0->mlflow-skinny==2.15.1->mlflow) (1.2.14)\nRequirement already satisfied: opentelemetry-semantic-conventions==0.47b0 in /local_disk0/.ephemeral_nfs/envs/pythonEnv-28da6624-54d1-4c97-9ffe-65306ee1ad4e/lib/python3.10/site-packages (from opentelemetry-sdk<3,>=1.9.0->mlflow-skinny==2.15.1->mlflow) (0.47b0)\nRequirement already satisfied: idna<4,>=2.5 in /databricks/python3/lib/python3.10/site-packages (from requests<3,>=2.17.3->mlflow-skinny==2.15.1->mlflow) (3.3)\nRequirement already satisfied: certifi>=2017.4.17 in /databricks/python3/lib/python3.10/site-packages (from requests<3,>=2.17.3->mlflow-skinny==2.15.1->mlflow) (2022.9.14)\nRequirement already satisfied: charset-normalizer<3,>=2 in /databricks/python3/lib/python3.10/site-packages (from requests<3,>=2.17.3->mlflow-skinny==2.15.1->mlflow) (2.0.4)\nRequirement already satisfied: wrapt<2,>=1.10 in /local_disk0/.ephemeral_nfs/envs/pythonEnv-28da6624-54d1-4c97-9ffe-65306ee1ad4e/lib/python3.10/site-packages (from deprecated>=1.2.6->opentelemetry-api<3,>=1.9.0->mlflow-skinny==2.15.1->mlflow) (1.16.0)\nRequirement already satisfied: smmap<6,>=3.0.1 in /local_disk0/.ephemeral_nfs/envs/pythonEnv-28da6624-54d1-4c97-9ffe-65306ee1ad4e/lib/python3.10/site-packages (from gitdb<5,>=4.0.1->gitpython<4,>=3.1.9->mlflow-skinny==2.15.1->mlflow) (5.0.1)\nRequirement already satisfied: rsa<5,>=3.1.4 in /local_disk0/.ephemeral_nfs/envs/pythonEnv-28da6624-54d1-4c97-9ffe-65306ee1ad4e/lib/python3.10/site-packages (from google-auth~=2.0->databricks-sdk<1,>=0.20.0->mlflow-skinny==2.15.1->mlflow) (4.9)\nRequirement already satisfied: pyasn1-modules>=0.2.1 in /local_disk0/.ephemeral_nfs/envs/pythonEnv-28da6624-54d1-4c97-9ffe-65306ee1ad4e/lib/python3.10/site-packages (from google-auth~=2.0->databricks-sdk<1,>=0.20.0->mlflow-skinny==2.15.1->mlflow) (0.4.0)\nRequirement already satisfied: pyasn1<0.7.0,>=0.4.6 in /local_disk0/.ephemeral_nfs/envs/pythonEnv-28da6624-54d1-4c97-9ffe-65306ee1ad4e/lib/python3.10/site-packages (from pyasn1-modules>=0.2.1->google-auth~=2.0->databricks-sdk<1,>=0.20.0->mlflow-skinny==2.15.1->mlflow) (0.6.0)\n\u001B[43mNote: you may need to restart the kernel using dbutils.library.restartPython() to use updated packages.\u001B[0m\n"
     ]
    }
   ],
   "source": [
    "%pip install mlflow"
   ]
  },
  {
   "cell_type": "code",
   "execution_count": 0,
   "metadata": {
    "application/vnd.databricks.v1+cell": {
     "cellMetadata": {
      "byteLimit": 2048000,
      "rowLimit": 10000
     },
     "inputWidgets": {},
     "nuid": "1931ab0d-335b-4972-a4bc-fee37c3a50c0",
     "showTitle": false,
     "title": ""
    }
   },
   "outputs": [],
   "source": [
    "dbutils.library.restartPython()"
   ]
  },
  {
   "cell_type": "code",
   "execution_count": 0,
   "metadata": {
    "application/vnd.databricks.v1+cell": {
     "cellMetadata": {
      "byteLimit": 2048000,
      "rowLimit": 10000
     },
     "inputWidgets": {},
     "nuid": "0a79b75b-0c33-437f-a42e-df523a43c596",
     "showTitle": false,
     "title": ""
    }
   },
   "outputs": [],
   "source": [
    "import mlflow\n",
    "import mlflow.sklearn\n",
    "import pandas as pd\n",
    "import matplotlib.pyplot as plt\n",
    "\n",
    "from numpy import savetxt\n",
    "from sklearn.model_selection import train_test_split\n",
    "from sklearn.datasets import load_diabetes\n",
    "\n",
    "from sklearn.ensemble import RandomForestRegressor\n",
    "from sklearn.metrics import mean_squared_error"
   ]
  },
  {
   "cell_type": "code",
   "execution_count": 0,
   "metadata": {
    "application/vnd.databricks.v1+cell": {
     "cellMetadata": {
      "byteLimit": 2048000,
      "rowLimit": 10000
     },
     "inputWidgets": {},
     "nuid": "a3a80e69-e25e-4ca8-a0a2-7f8578fe0f42",
     "showTitle": false,
     "title": ""
    }
   },
   "outputs": [
    {
     "output_type": "stream",
     "name": "stdout",
     "output_type": "stream",
     "text": [
      "Package                            Version\n---------------------------------- -------------\nalembic                            1.13.2\naniso8601                          9.0.1\nappdirs                            1.4.4\nargon2-cffi                        21.3.0\nargon2-cffi-bindings               21.2.0\nasttokens                          2.2.1\nattrs                              21.4.0\nbackcall                           0.2.0\nbeautifulsoup4                     4.11.1\nblack                              22.6.0\nbleach                             4.1.0\nblinker                            1.8.2\nboto3                              1.24.28\nbotocore                           1.27.28\ncachetools                         5.4.0\ncertifi                            2022.9.14\ncffi                               1.15.1\nchardet                            4.0.0\ncharset-normalizer                 2.0.4\nclick                              8.1.7\ncloudpickle                        3.0.0\ncryptography                       37.0.1\ncycler                             0.11.0\nCython                             0.29.32\ndatabricks-sdk                     0.30.0\ndbus-python                        1.2.18\ndebugpy                            1.6.0\ndecorator                          5.1.1\ndefusedxml                         0.7.1\nDeprecated                         1.2.14\ndistlib                            0.3.7\ndistro                             1.7.0\ndistro-info                        1.1+ubuntu0.2\ndocker                             7.1.0\ndocstring-to-markdown              0.12\nentrypoints                        0.4\nexecuting                          1.2.0\nfacets-overview                    1.0.3\nfastjsonschema                     2.18.0\nfilelock                           3.12.2\nFlask                              3.0.3\nfonttools                          4.25.0\ngitdb                              4.0.11\nGitPython                          3.1.43\ngoogle-auth                        2.33.0\ngoogleapis-common-protos           1.56.4\ngraphene                           3.3\ngraphql-core                       3.2.3\ngraphql-relay                      3.2.0\ngreenlet                           3.0.3\ngrpcio                             1.48.1\ngrpcio-status                      1.48.1\ngunicorn                           22.0.0\nhttplib2                           0.20.2\nidna                               3.3\nimportlib_metadata                 7.2.1\nipykernel                          6.17.1\nipython                            8.10.0\nipython-genutils                   0.2.0\nipywidgets                         7.7.2\nitsdangerous                       2.2.0\njedi                               0.18.1\njeepney                            0.7.1\nJinja2                             3.1.4\njmespath                           0.10.0\njoblib                             1.2.0\njsonschema                         4.16.0\njupyter-client                     7.3.4\njupyter_core                       4.11.2\njupyterlab-pygments                0.1.2\njupyterlab-widgets                 1.0.0\nkeyring                            23.5.0\nkiwisolver                         1.4.2\nlaunchpadlib                       1.10.16\nlazr.restfulclient                 0.14.4\nlazr.uri                           1.0.6\nMako                               1.3.5\nMarkdown                           3.7\nMarkupSafe                         2.1.5\nmatplotlib                         3.5.2\nmatplotlib-inline                  0.1.6\nmccabe                             0.7.0\nmistune                            0.8.4\nmlflow                             2.15.1\nmlflow-skinny                      2.15.1\nmore-itertools                     8.10.0\nmypy-extensions                    0.4.3\nnbclient                           0.5.13\nnbconvert                          6.4.4\nnbformat                           5.5.0\nnest-asyncio                       1.5.5\nnodeenv                            1.8.0\nnotebook                           6.4.12\nnumpy                              1.21.5\noauthlib                           3.2.0\nopentelemetry-api                  1.26.0\nopentelemetry-sdk                  1.26.0\nopentelemetry-semantic-conventions 0.47b0\npackaging                          21.3\npandas                             1.4.4\npandocfilters                      1.5.0\nparso                              0.8.3\npathspec                           0.9.0\npatsy                              0.5.2\npexpect                            4.8.0\npickleshare                        0.7.5\nPillow                             9.2.0\npip                                22.2.2\nplatformdirs                       2.5.2\nplotly                             5.9.0\npluggy                             1.0.0\nprometheus-client                  0.14.1\nprompt-toolkit                     3.0.36\nprotobuf                           3.19.4\npsutil                             5.9.0\npsycopg2                           2.9.3\nptyprocess                         0.7.0\npure-eval                          0.2.2\npyarrow                            8.0.0\npyarrow-hotfix                     0.5\npyasn1                             0.6.0\npyasn1_modules                     0.4.0\npycparser                          2.21\npydantic                           1.10.6\npyflakes                           3.0.1\nPygments                           2.11.2\nPyGObject                          3.42.1\nPyJWT                              2.3.0\npyodbc                             4.0.32\npyparsing                          3.0.9\npyright                            1.1.294\npyrsistent                         0.18.0\npython-apt                         2.4.0+ubuntu3\npython-dateutil                    2.8.2\npython-lsp-jsonrpc                 1.0.0\npython-lsp-server                  1.7.1\npytoolconfig                       1.2.2\npytz                               2022.1\nPyYAML                             6.0.2\npyzmq                              23.2.0\nquerystring-parser                 1.2.4\nrequests                           2.28.1\nrope                               1.7.0\nrsa                                4.9\ns3transfer                         0.6.0\nscikit-learn                       1.1.1\nscipy                              1.9.1\nseaborn                            0.11.2\nSecretStorage                      3.3.1\nSend2Trash                         1.8.0\nsetuptools                         63.4.1\nsix                                1.16.0\nsmmap                              5.0.1\nsoupsieve                          2.3.1\nSQLAlchemy                         2.0.32\nsqlparse                           0.5.1\nssh-import-id                      5.11\nstack-data                         0.6.2\nstatsmodels                        0.13.2\ntenacity                           8.1.0\nterminado                          0.13.1\ntestpath                           0.6.0\nthreadpoolctl                      2.2.0\ntokenize-rt                        4.2.1\ntomli                              2.0.1\ntornado                            6.1\ntraitlets                          5.1.1\ntyping_extensions                  4.12.2\nujson                              5.4.0\nunattended-upgrades                0.1\nurllib3                            1.26.11\nvirtualenv                         20.16.3\nwadllib                            1.3.6\nwcwidth                            0.2.5\nwebencodings                       0.5.1\nWerkzeug                           3.0.3\nwhatthepatch                       1.0.2\nwheel                              0.37.1\nwidgetsnbextension                 3.6.1\nwrapt                              1.16.0\nyapf                               0.31.0\nzipp                               1.0.0\n"
     ]
    }
   ],
   "source": [
    "%pip list"
   ]
  },
  {
   "cell_type": "code",
   "execution_count": 0,
   "metadata": {
    "application/vnd.databricks.v1+cell": {
     "cellMetadata": {
      "byteLimit": 2048000,
      "rowLimit": 10000
     },
     "inputWidgets": {},
     "nuid": "fb2c431a-525c-44d2-9090-7cf8eab2a2e0",
     "showTitle": false,
     "title": ""
    }
   },
   "outputs": [],
   "source": [
    "db=load_diabetes()\n",
    "x=db.data\n",
    "y=db.target\n",
    "x_train,x_test,y_train,y_test=train_test_split(x,y)"
   ]
  },
  {
   "cell_type": "code",
   "execution_count": 0,
   "metadata": {
    "application/vnd.databricks.v1+cell": {
     "cellMetadata": {
      "byteLimit": 2048000,
      "rowLimit": 10000
     },
     "inputWidgets": {},
     "nuid": "2c623ada-a394-4101-bf87-5bbf917ae827",
     "showTitle": false,
     "title": ""
    }
   },
   "outputs": [
    {
     "output_type": "execute_result",
     "data": {
      "text/plain": [
       "((442, 10), (442,))"
      ]
     },
     "execution_count": 4,
     "metadata": {},
     "output_type": "execute_result"
    }
   ],
   "source": [
    "\n",
    "x.shape,y.shape"
   ]
  },
  {
   "cell_type": "code",
   "execution_count": 0,
   "metadata": {
    "application/vnd.databricks.v1+cell": {
     "cellMetadata": {
      "byteLimit": 2048000,
      "rowLimit": 10000
     },
     "inputWidgets": {},
     "nuid": "c8a8509f-2c76-425d-b1d4-003663163612",
     "showTitle": false,
     "title": ""
    }
   },
   "outputs": [
    {
     "output_type": "execute_result",
     "data": {
      "text/plain": [
       "array([[ 0.03807591,  0.05068012,  0.06169621, ..., -0.00259226,\n",
       "         0.01990749, -0.01764613],\n",
       "       [-0.00188202, -0.04464164, -0.05147406, ..., -0.03949338,\n",
       "        -0.06833155, -0.09220405],\n",
       "       [ 0.08529891,  0.05068012,  0.04445121, ..., -0.00259226,\n",
       "         0.00286131, -0.02593034],\n",
       "       ...,\n",
       "       [ 0.04170844,  0.05068012, -0.01590626, ..., -0.01107952,\n",
       "        -0.04688253,  0.01549073],\n",
       "       [-0.04547248, -0.04464164,  0.03906215, ...,  0.02655962,\n",
       "         0.04452873, -0.02593034],\n",
       "       [-0.04547248, -0.04464164, -0.0730303 , ..., -0.03949338,\n",
       "        -0.00422151,  0.00306441]])"
      ]
     },
     "execution_count": 6,
     "metadata": {},
     "output_type": "execute_result"
    }
   ],
   "source": [
    "x"
   ]
  },
  {
   "cell_type": "code",
   "execution_count": 0,
   "metadata": {
    "application/vnd.databricks.v1+cell": {
     "cellMetadata": {
      "byteLimit": 2048000,
      "rowLimit": 10000
     },
     "inputWidgets": {},
     "nuid": "629338c6-6ef9-46b7-8c00-fbeb8bb1e2ae",
     "showTitle": false,
     "title": ""
    }
   },
   "outputs": [
    {
     "output_type": "execute_result",
     "data": {
      "text/plain": [
       "array([151.,  75., 141., 206., 135.,  97., 138.,  63., 110., 310., 101.,\n",
       "        69., 179., 185., 118., 171., 166., 144.,  97., 168.,  68.,  49.,\n",
       "        68., 245., 184., 202., 137.,  85., 131., 283., 129.,  59., 341.,\n",
       "        87.,  65., 102., 265., 276., 252.,  90., 100.,  55.,  61.,  92.,\n",
       "       259.,  53., 190., 142.,  75., 142., 155., 225.,  59., 104., 182.,\n",
       "       128.,  52.,  37., 170., 170.,  61., 144.,  52., 128.,  71., 163.,\n",
       "       150.,  97., 160., 178.,  48., 270., 202., 111.,  85.,  42., 170.,\n",
       "       200., 252., 113., 143.,  51.,  52., 210.,  65., 141.,  55., 134.,\n",
       "        42., 111.,  98., 164.,  48.,  96.,  90., 162., 150., 279.,  92.,\n",
       "        83., 128., 102., 302., 198.,  95.,  53., 134., 144., 232.,  81.,\n",
       "       104.,  59., 246., 297., 258., 229., 275., 281., 179., 200., 200.,\n",
       "       173., 180.,  84., 121., 161.,  99., 109., 115., 268., 274., 158.,\n",
       "       107.,  83., 103., 272.,  85., 280., 336., 281., 118., 317., 235.,\n",
       "        60., 174., 259., 178., 128.,  96., 126., 288.,  88., 292.,  71.,\n",
       "       197., 186.,  25.,  84.,  96., 195.,  53., 217., 172., 131., 214.,\n",
       "        59.,  70., 220., 268., 152.,  47.,  74., 295., 101., 151., 127.,\n",
       "       237., 225.,  81., 151., 107.,  64., 138., 185., 265., 101., 137.,\n",
       "       143., 141.,  79., 292., 178.,  91., 116.,  86., 122.,  72., 129.,\n",
       "       142.,  90., 158.,  39., 196., 222., 277.,  99., 196., 202., 155.,\n",
       "        77., 191.,  70.,  73.,  49.,  65., 263., 248., 296., 214., 185.,\n",
       "        78.,  93., 252., 150.,  77., 208.,  77., 108., 160.,  53., 220.,\n",
       "       154., 259.,  90., 246., 124.,  67.,  72., 257., 262., 275., 177.,\n",
       "        71.,  47., 187., 125.,  78.,  51., 258., 215., 303., 243.,  91.,\n",
       "       150., 310., 153., 346.,  63.,  89.,  50.,  39., 103., 308., 116.,\n",
       "       145.,  74.,  45., 115., 264.,  87., 202., 127., 182., 241.,  66.,\n",
       "        94., 283.,  64., 102., 200., 265.,  94., 230., 181., 156., 233.,\n",
       "        60., 219.,  80.,  68., 332., 248.,  84., 200.,  55.,  85.,  89.,\n",
       "        31., 129.,  83., 275.,  65., 198., 236., 253., 124.,  44., 172.,\n",
       "       114., 142., 109., 180., 144., 163., 147.,  97., 220., 190., 109.,\n",
       "       191., 122., 230., 242., 248., 249., 192., 131., 237.,  78., 135.,\n",
       "       244., 199., 270., 164.,  72.,  96., 306.,  91., 214.,  95., 216.,\n",
       "       263., 178., 113., 200., 139., 139.,  88., 148.,  88., 243.,  71.,\n",
       "        77., 109., 272.,  60.,  54., 221.,  90., 311., 281., 182., 321.,\n",
       "        58., 262., 206., 233., 242., 123., 167.,  63., 197.,  71., 168.,\n",
       "       140., 217., 121., 235., 245.,  40.,  52., 104., 132.,  88.,  69.,\n",
       "       219.,  72., 201., 110.,  51., 277.,  63., 118.,  69., 273., 258.,\n",
       "        43., 198., 242., 232., 175.,  93., 168., 275., 293., 281.,  72.,\n",
       "       140., 189., 181., 209., 136., 261., 113., 131., 174., 257.,  55.,\n",
       "        84.,  42., 146., 212., 233.,  91., 111., 152., 120.,  67., 310.,\n",
       "        94., 183.,  66., 173.,  72.,  49.,  64.,  48., 178., 104., 132.,\n",
       "       220.,  57.])"
      ]
     },
     "execution_count": 7,
     "metadata": {},
     "output_type": "execute_result"
    }
   ],
   "source": [
    "y"
   ]
  },
  {
   "cell_type": "code",
   "execution_count": 0,
   "metadata": {
    "application/vnd.databricks.v1+cell": {
     "cellMetadata": {
      "byteLimit": 2048000,
      "rowLimit": 10000
     },
     "inputWidgets": {},
     "nuid": "4dca57a7-7369-4241-b90f-a5678efc8298",
     "showTitle": false,
     "title": ""
    }
   },
   "outputs": [],
   "source": [
    "mlflow.sklearn.autolog()"
   ]
  },
  {
   "cell_type": "code",
   "execution_count": 0,
   "metadata": {
    "application/vnd.databricks.v1+cell": {
     "cellMetadata": {
      "byteLimit": 2048000,
      "rowLimit": 10000
     },
     "inputWidgets": {},
     "nuid": "d2cdd770-4e49-4e70-860e-58cfcccbe3bc",
     "showTitle": false,
     "title": ""
    }
   },
   "outputs": [
    {
     "output_type": "stream",
     "name": "stderr",
     "output_type": "stream",
     "text": [
      "2024/08/17 04:01:41 INFO mlflow.tracking._tracking_service.client: 🏃 View run popular-cub-232 at: https://community.cloud.databricks.com/ml/experiments/4044915763448339/runs/c4865d2638f746bf98eb45927c08a4da.\n2024/08/17 04:01:41 INFO mlflow.tracking._tracking_service.client: 🧪 View experiment at: https://community.cloud.databricks.com/ml/experiments/4044915763448339.\n2024/08/17 04:01:42 INFO mlflow.utils.autologging_utils: Created MLflow autologging run with ID '2b61153626e84255a3ad12d13ed517ce', which will track hyperparameters, performance metrics, model artifacts, and lineage information for the current sklearn workflow\n2024/08/17 04:01:48 WARNING mlflow.utils.autologging_utils: MLflow autologging encountered a warning: \"/databricks/python/lib/python3.10/site-packages/_distutils_hack/__init__.py:33: UserWarning: Setuptools is replacing distutils.\"\n2024/08/17 04:01:49 INFO mlflow.tracking._tracking_service.client: 🏃 View run abrasive-shad-196 at: https://community.cloud.databricks.com/ml/experiments/4044915763448339/runs/2b61153626e84255a3ad12d13ed517ce.\n2024/08/17 04:01:49 INFO mlflow.tracking._tracking_service.client: 🧪 View experiment at: https://community.cloud.databricks.com/ml/experiments/4044915763448339.\n"
     ]
    }
   ],
   "source": [
    "\n",
    "with mlflow.start_run():\n",
    "  n_estimators=100\n",
    "  max_depth=6\n",
    "  max_features=3\n",
    "\n",
    "rf=RandomForestRegressor(n_estimators=n_estimators,max_depth=max_depth,max_features=max_features)\n",
    "rf.fit(x_train,y_train)\n",
    "predictions=rf.predict(x_test)"
   ]
  }
 ],
 "metadata": {
  "application/vnd.databricks.v1+notebook": {
   "dashboards": [],
   "environmentMetadata": null,
   "language": "python",
   "notebookMetadata": {
    "pythonIndentUnit": 4
   },
   "notebookName": "Scifor Task",
   "widgets": {}
  }
 },
 "nbformat": 4,
 "nbformat_minor": 0
}
