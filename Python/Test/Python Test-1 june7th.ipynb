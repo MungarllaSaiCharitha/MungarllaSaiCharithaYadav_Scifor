{
  "nbformat": 4,
  "nbformat_minor": 0,
  "metadata": {
    "colab": {
      "provenance": [],
      "authorship_tag": "ABX9TyP7eZk3Gg/MzpkwYdyDkwCQ",
      "include_colab_link": true
    },
    "kernelspec": {
      "name": "python3",
      "display_name": "Python 3"
    },
    "language_info": {
      "name": "python"
    }
  },
  "cells": [
    {
      "cell_type": "markdown",
      "metadata": {
        "id": "view-in-github",
        "colab_type": "text"
      },
      "source": [
        "<a href=\"https://colab.research.google.com/github/MungarllaSaiCharitha/MungarllaSaiCharithaYadav_Scifor/blob/main/Python/Test/Python%20Test-1%20june7th.ipynb\" target=\"_parent\"><img src=\"https://colab.research.google.com/assets/colab-badge.svg\" alt=\"Open In Colab\"/></a>"
      ]
    },
    {
      "cell_type": "markdown",
      "source": [
        "**1.Explain Encapsulation with example and write python code.**"
      ],
      "metadata": {
        "id": "p9a695385YkS"
      }
    },
    {
      "cell_type": "markdown",
      "source": [
        "Encapsulation : Encapsulation is the main pillar in oops where data and method are bundled as a single unit within class ensuring data integrity and modularity"
      ],
      "metadata": {
        "id": "5fBUxgfa5kCJ"
      }
    },
    {
      "cell_type": "code",
      "source": [
        "class Person():\n",
        "  def __init__(self,name,age):\n",
        "    self.__name = name\n",
        "    self.__age = age\n",
        "  def show(self):\n",
        "    return (f\"name : {self.__name} age: {self.__age}\")\n",
        "person1 = Person(\"Mungarlla Sai Charitha Yadav\", 20)\n",
        "print(person1.show())\n",
        "print(person1._Person__name)\n",
        "print(person1._Person__age)"
      ],
      "metadata": {
        "colab": {
          "base_uri": "https://localhost:8080/"
        },
        "id": "3_jH02HR6sVG",
        "outputId": "21c305f3-bd1b-483a-e03e-2d9bd0efb19f"
      },
      "execution_count": null,
      "outputs": [
        {
          "output_type": "stream",
          "name": "stdout",
          "text": [
            "name : Mungarlla Sai Charitha Yadav age: 20\n",
            "Mungarlla Sai Charitha Yadav\n",
            "20\n"
          ]
        }
      ]
    },
    {
      "cell_type": "markdown",
      "source": [
        "In the above code encapsulation is defined by the private variable name and age.\n",
        "Encapsulation in the Person class ensures that the internal state of objects (i.e., the values of __name and __age) is protected and can only be accessed or modified through controlled interfaces (e.g., the show method), promoting data integrity and code maintainability."
      ],
      "metadata": {
        "id": "7JaCS2f1-oKS"
      }
    },
    {
      "cell_type": "markdown",
      "source": [
        "**2.Explain Polymorphism with example and write python code.**"
      ],
      "metadata": {
        "id": "Ro9v8QQ28SHF"
      }
    },
    {
      "cell_type": "markdown",
      "source": [
        "Polymorphism : Polymorphism means many forms and in programming it is defined as methods/functions with the same name can be excecuted on many objects and classes"
      ],
      "metadata": {
        "id": "RYQT81z08VPx"
      }
    },
    {
      "cell_type": "code",
      "source": [
        "class Vehical:\n",
        "  def move(self):\n",
        "    print(\"move\")\n",
        "class Car(Vehical):\n",
        "  def move(self):\n",
        "    print(\"drive\")\n",
        "class Boat(Vehical):\n",
        "  def move(self):\n",
        "    print(\"sail\")\n",
        "class Plane(Vehical):\n",
        "  def move(self):\n",
        "    print(\"fly\")\n",
        "def Vehical_move(Vehical):\n",
        "  Vehical.move()\n",
        "car = Car()\n",
        "boat = Boat()\n",
        "plane = Plane()\n",
        "Vehical_move(car)\n",
        "Vehical_move(boat)\n",
        "Vehical_move(plane)"
      ],
      "metadata": {
        "colab": {
          "base_uri": "https://localhost:8080/"
        },
        "id": "vYFfUjQw888G",
        "outputId": "9dfa4559-b485-4343-cf91-3a5fb8a8e16b"
      },
      "execution_count": null,
      "outputs": [
        {
          "output_type": "stream",
          "name": "stdout",
          "text": [
            "drive\n",
            "sail\n",
            "fly\n"
          ]
        }
      ]
    },
    {
      "cell_type": "markdown",
      "source": [
        "In the code polymorphism is explained through the method move in Vehical class and the sub classes boat, car, plane.\n",
        "Objects of different classes (Car, Boat, Plane) are treated uniformly as instances of the Vehicle class while exhibiting different behaviors based on their specific implementations of the move method."
      ],
      "metadata": {
        "id": "n7kaZ-pyAiij"
      }
    },
    {
      "cell_type": "markdown",
      "source": [
        "**3.Explain Single Level Inheritance with python code.**\n"
      ],
      "metadata": {
        "id": "2hvJS8pTBmhi"
      }
    },
    {
      "cell_type": "code",
      "source": [
        "class Parent:\n",
        "  def P_skills(self):\n",
        "    print(\"parent skills\")\n",
        "class Child(Parent):\n",
        "  def C_skills(self):\n",
        "    print(\"child skills\")\n",
        "child = Child()\n",
        "child.P_skills()\n",
        "child.C_skills()"
      ],
      "metadata": {
        "colab": {
          "base_uri": "https://localhost:8080/"
        },
        "id": "vYi0i7sKBr9q",
        "outputId": "6ca73fba-d92d-4654-b618-7dbc73b6d607"
      },
      "execution_count": null,
      "outputs": [
        {
          "output_type": "stream",
          "name": "stdout",
          "text": [
            "parent skills\n",
            "child skills\n"
          ]
        }
      ]
    },
    {
      "cell_type": "markdown",
      "source": [
        "In the single inheritance there will be on base class and one derived class. In the above code Child inherits the P_skills method from the base class and executes it with the child objects."
      ],
      "metadata": {
        "id": "A4hAvev_Cd84"
      }
    },
    {
      "cell_type": "markdown",
      "source": [
        "**4. Explain Multiple inheritance with python code.**"
      ],
      "metadata": {
        "id": "n4BXECWzDOGP"
      }
    },
    {
      "cell_type": "code",
      "source": [
        "class Father:\n",
        "  def skills(self):\n",
        "    print(\"father skills\")\n",
        "class Mother:\n",
        "  def skills(self):\n",
        "    print(\"Mother skills\")\n",
        "class Child(Father, Mother):\n",
        "  def skills(self):\n",
        "    super().skills()\n",
        "    print(\"child's skills\")\n",
        "child = Child()\n",
        "child.skills()"
      ],
      "metadata": {
        "colab": {
          "base_uri": "https://localhost:8080/"
        },
        "id": "vqXS3KyxDSrS",
        "outputId": "b4a4ab07-aa1d-4f91-f503-91a3bfdc25ca"
      },
      "execution_count": null,
      "outputs": [
        {
          "output_type": "stream",
          "name": "stdout",
          "text": [
            "father skills\n",
            "child's skills\n"
          ]
        }
      ]
    },
    {
      "cell_type": "markdown",
      "source": [
        "In the above Multiple inheritance code Father and the Mother are the Base class with and child id the derived class with parent class as Father and the Mother. the output does not print Mother skills due to MRO method i.e it follows left to right. So mother is not considered because father is the 1st left class."
      ],
      "metadata": {
        "id": "6hFOrRTTDgnu"
      }
    },
    {
      "cell_type": "markdown",
      "source": [
        "**5. Explain Muti-level inheritance with python code**"
      ],
      "metadata": {
        "id": "Vbj7y5WCEY7n"
      }
    },
    {
      "cell_type": "code",
      "source": [
        "class Vehicle:\n",
        "    def move(self):\n",
        "        print(\"Vehicle is moving\")\n",
        "\n",
        "class Car(Vehicle):\n",
        "    def drive(self):\n",
        "        print(\"Car is being driven\")\n",
        "\n",
        "class ElectricCar(Car):\n",
        "    def charge(self):\n",
        "        print(\"Electric car is charging\")\n",
        "electric_car = ElectricCar()\n",
        "electric_car.move()\n",
        "electric_car.drive()\n",
        "electric_car.charge()\n"
      ],
      "metadata": {
        "colab": {
          "base_uri": "https://localhost:8080/"
        },
        "id": "SgwFOxf9Ebhl",
        "outputId": "da8598a9-bf12-41e7-b302-799ece048549"
      },
      "execution_count": null,
      "outputs": [
        {
          "output_type": "stream",
          "name": "stdout",
          "text": [
            "Vehicle is moving\n",
            "Car is being driven\n",
            "Electric car is charging\n"
          ]
        }
      ]
    },
    {
      "cell_type": "markdown",
      "source": [
        "When an instance of ElectricCar is created, it inherits all the methods from its parent classes Vehicle and Car due to multilevel inheritance. Therefore, it can call move from Vehicle, drive from Car, and charge from ElectricCar methods."
      ],
      "metadata": {
        "id": "ZRbbiDqeFQVa"
      }
    },
    {
      "cell_type": "markdown",
      "source": [
        "**6. What do you mean by conditional statements. Explain with python code**"
      ],
      "metadata": {
        "id": "XI189VNYFXit"
      }
    },
    {
      "cell_type": "markdown",
      "source": [
        "Conditional statements are the control flow statements used to check the condition of the block of the code\n",
        "if,elif, and else is is the conditional statements"
      ],
      "metadata": {
        "id": "OuxF_QISFxdx"
      }
    },
    {
      "cell_type": "code",
      "source": [
        "x=int(input(\"enter x: \"))\n",
        "if x<15:\n",
        "  print(x,\"is less than 15\")\n",
        "elif x==15:\n",
        "  print(x,\"is equal to 15\")\n",
        "else:\n",
        "  print(x,\"is greater than 15\")"
      ],
      "metadata": {
        "colab": {
          "base_uri": "https://localhost:8080/"
        },
        "id": "-5sz4xWeGN1Z",
        "outputId": "46b42a30-7fe7-4342-a2d3-b380a2e94b0c"
      },
      "execution_count": null,
      "outputs": [
        {
          "output_type": "stream",
          "name": "stdout",
          "text": [
            "enter x: 17\n",
            "17 is greater than 15\n"
          ]
        }
      ]
    },
    {
      "cell_type": "markdown",
      "source": [
        "In the above code x is taken as user input 17. 17 is greater than 15 and is not equal to 15 as 2 conditions are not satisfied it excecuts else statement that is x is greater than 15"
      ],
      "metadata": {
        "id": "WCJrvxuBGwTL"
      }
    },
    {
      "cell_type": "markdown",
      "source": [
        "**7. What do you mean by decision making statements. Explain with python code.**"
      ],
      "metadata": {
        "id": "boPjpMuQHM84"
      }
    },
    {
      "cell_type": "markdown",
      "source": [
        "Decision-making statements in programming allow a program to execute certain pieces of code based on specific conditions. These statements enable the program to make decisions and perform different actions depending on the conditions provided. In Python, the primary decision-making statements are if, elif, and else"
      ],
      "metadata": {
        "id": "VtJ5ErxJLJ4H"
      }
    },
    {
      "cell_type": "code",
      "source": [
        "age = 18\n",
        "if age < 13:\n",
        "    print(\"You are a child.\")\n",
        "elif age < 20:\n",
        "    print(\"You are a teenager.\")\n",
        "elif age < 65:\n",
        "    print(\"You are an adult.\")\n",
        "else:\n",
        "    print(\"You are a senior.\")\n"
      ],
      "metadata": {
        "colab": {
          "base_uri": "https://localhost:8080/"
        },
        "id": "fM7EqtXSHP_d",
        "outputId": "7bd85bf8-6435-48b2-958e-06ebc90ce36f"
      },
      "execution_count": null,
      "outputs": [
        {
          "output_type": "stream",
          "name": "stdout",
          "text": [
            "You are a teenager.\n"
          ]
        }
      ]
    },
    {
      "cell_type": "markdown",
      "source": [
        "In the above code decision is make according to the age"
      ],
      "metadata": {
        "id": "vUoBunstLjPr"
      }
    },
    {
      "cell_type": "markdown",
      "source": [
        "**8. Write a program of factorial in python**\n"
      ],
      "metadata": {
        "id": "03ekrZTKHaSx"
      }
    },
    {
      "cell_type": "code",
      "source": [
        "def factorial(x):\n",
        "  if x==0 or x==1:\n",
        "    return 1\n",
        "  else:\n",
        "    return x*factorial(x-1)\n",
        "x=int(input(\"enter:\"))\n",
        "print(factorial(x))"
      ],
      "metadata": {
        "colab": {
          "base_uri": "https://localhost:8080/"
        },
        "id": "jFzkw_Y4Hddb",
        "outputId": "6f57cb45-ecd8-49c5-cac7-a05d870c9d2e"
      },
      "execution_count": null,
      "outputs": [
        {
          "output_type": "stream",
          "name": "stdout",
          "text": [
            "enter:6\n",
            "720\n"
          ]
        }
      ]
    },
    {
      "cell_type": "markdown",
      "source": [
        "**9. What do you understand by Functions? Explain with python code.**"
      ],
      "metadata": {
        "id": "IVOnFArcIDDH"
      }
    },
    {
      "cell_type": "markdown",
      "source": [
        "Function is a reusable block of code that can be used to excecute multiple times."
      ],
      "metadata": {
        "id": "zNk3inLwIKvE"
      }
    },
    {
      "cell_type": "code",
      "source": [
        "def area(length, width):\n",
        "    area = length * width\n",
        "    return area\n",
        "# Function calls\n",
        "length = 5\n",
        "width = 3\n",
        "area1 = area(length, width)\n",
        "print(f\"The area of a rectangle with length {length} and width {width} is {area1}.\")\n",
        "\n",
        "length = 7\n",
        "width = 4\n",
        "area2 = area(length, width)\n",
        "print(f\"The area of a rectangle with length {length} and width {width} is {area2}.\")"
      ],
      "metadata": {
        "colab": {
          "base_uri": "https://localhost:8080/"
        },
        "id": "Tcd-4RV9IGCn",
        "outputId": "cd2033a9-35a4-4624-e937-9d474e4656a5"
      },
      "execution_count": null,
      "outputs": [
        {
          "output_type": "stream",
          "name": "stdout",
          "text": [
            "The area of a rectangle with length 5 and width 3 is 15.\n",
            "The area of a rectangle with length 7 and width 4 is 28.\n"
          ]
        }
      ]
    },
    {
      "cell_type": "markdown",
      "source": [
        "In the above code a function to calculate the area is created to calculate the are using the length and the width. To calculate the area multiple times there is no need to write the code again and again just by calling the function again can give the output"
      ],
      "metadata": {
        "id": "aL3eAVMCJUgH"
      }
    },
    {
      "cell_type": "markdown",
      "source": [
        "**10. How many pillars of Oops we have in Python?**"
      ],
      "metadata": {
        "id": "1TUYhom8KGyC"
      }
    },
    {
      "cell_type": "markdown",
      "source": [
        "Pillars of OOP:\n",
        "Objects: Represent real-world entities with attributes (data) and methods (behaviors).\n",
        "\n",
        "Classes: Serve as blueprints for creating objects, defining their attributes and methods.\n",
        "\n",
        "Inheritance: Promotes code reusability by allowing subclasses to inherit properties from superclasses.\n",
        "\n",
        "Polymorphism: Enables objects of different classes to respond to the same method call in varied ways.\n",
        "\n",
        "Encapsulation: Combines data and methods within a class, protecting data integrity and enhancing modularity."
      ],
      "metadata": {
        "id": "HNDHdWV5KMHm"
      }
    }
  ]
}