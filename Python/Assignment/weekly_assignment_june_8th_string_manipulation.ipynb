{
  "nbformat": 4,
  "nbformat_minor": 0,
  "metadata": {
    "colab": {
      "provenance": [],
      "authorship_tag": "ABX9TyP55P48gSDVFbfNxLLlzFLB",
      "include_colab_link": true
    },
    "kernelspec": {
      "name": "python3",
      "display_name": "Python 3"
    },
    "language_info": {
      "name": "python"
    }
  },
  "cells": [
    {
      "cell_type": "markdown",
      "metadata": {
        "id": "view-in-github",
        "colab_type": "text"
      },
      "source": [
        "<a href=\"https://colab.research.google.com/github/MungarllaSaiCharitha/MungarllaSaiCharithaYadav_Scifor/blob/main/Python/Assignment/weekly_assignment_june_8th_string_manipulation.ipynb\" target=\"_parent\"><img src=\"https://colab.research.google.com/assets/colab-badge.svg\" alt=\"Open In Colab\"/></a>"
      ]
    },
    {
      "cell_type": "markdown",
      "source": [
        "**1. Python program to check whether the string is Symmetrical or Palindrome**"
      ],
      "metadata": {
        "id": "tdcxK7XhLB21"
      }
    },
    {
      "cell_type": "code",
      "execution_count": 5,
      "metadata": {
        "colab": {
          "base_uri": "https://localhost:8080/"
        },
        "id": "3ZjYy-jqIiCo",
        "outputId": "2eaf8cf0-62af-4162-a02e-9cd203cf4b55"
      },
      "outputs": [
        {
          "output_type": "stream",
          "name": "stdout",
          "text": [
            "enter string: khokho\n",
            "not a palindrome\n",
            "symmetrical\n"
          ]
        }
      ],
      "source": [
        "def palindrome(s):\n",
        "  if s == s[::-1]:\n",
        "    return \"Palindrome\"\n",
        "  else:\n",
        "    return \"not a palindrome\"\n",
        "def symmetrical(s):\n",
        "  if s[0:(len(s)//2)] == s[len(s)//2:]:\n",
        "    return \"symmetrical\"\n",
        "  else:\n",
        "    return \"not symmetrical\"\n",
        "s=input(\"enter string: \")\n",
        "print(palindrome(s))\n",
        "print(symmetrical(s))"
      ]
    },
    {
      "cell_type": "markdown",
      "source": [
        "**2. Reverse Words in a Given String in Python**"
      ],
      "metadata": {
        "id": "GKT5xCiOLIfP"
      }
    },
    {
      "cell_type": "code",
      "source": [
        "string= input(\"enter: \")\n",
        "l=string.split()\n",
        "print(\" \".join(l[::-1]))"
      ],
      "metadata": {
        "colab": {
          "base_uri": "https://localhost:8080/"
        },
        "id": "HM05h93oLPkN",
        "outputId": "fb127fc1-d32f-45a1-cb6c-31b9c6be46a7"
      },
      "execution_count": 10,
      "outputs": [
        {
          "output_type": "stream",
          "name": "stdout",
          "text": [
            "enter: my favorite language is python\n",
            "python is language favorite my\n"
          ]
        }
      ]
    },
    {
      "cell_type": "markdown",
      "source": [
        "**3.Python program to print even length words in a string**"
      ],
      "metadata": {
        "id": "ainYFT4FME46"
      }
    },
    {
      "cell_type": "code",
      "source": [
        "s=input(\"enter: \")\n",
        "l=s.split()\n",
        "new_string=\"\"\n",
        "for i in l:\n",
        "  if len(i)%2==0:\n",
        "    new_string= new_string+\" \"+i\n",
        "  else:\n",
        "    pass\n",
        "print(new_string)"
      ],
      "metadata": {
        "colab": {
          "base_uri": "https://localhost:8080/"
        },
        "id": "QKEnSLeBMh_W",
        "outputId": "edeef4ee-2f20-45c1-c9f5-18a2f8f6be23"
      },
      "execution_count": 16,
      "outputs": [
        {
          "output_type": "stream",
          "name": "stdout",
          "text": [
            "enter: I am Sai Charitha Yadav\n",
            " am Charitha\n"
          ]
        }
      ]
    },
    {
      "cell_type": "markdown",
      "source": [
        "**4. Python program to capitalize the first and last character of each word in a string**"
      ],
      "metadata": {
        "id": "IMr7Ss4jPAg8"
      }
    },
    {
      "cell_type": "code",
      "source": [
        "s=input(\"enter: \")\n",
        "output=\"\"\n",
        "for i in s.split():\n",
        "  output= output+ \" \" + i[0].upper()+i[1:-1]+i[-1].upper()\n",
        "print(output)"
      ],
      "metadata": {
        "colab": {
          "base_uri": "https://localhost:8080/"
        },
        "id": "-Tf7ES1JPFzM",
        "outputId": "e1713cb3-c0d0-42ed-bb2d-30b87de10779"
      },
      "execution_count": 24,
      "outputs": [
        {
          "output_type": "stream",
          "name": "stdout",
          "text": [
            "enter: sai charitha yadav\n",
            " SaI CharithA YadaV\n"
          ]
        }
      ]
    },
    {
      "cell_type": "markdown",
      "source": [
        "**5.Python | Count the Number of matching characters in a pair of string**"
      ],
      "metadata": {
        "id": "pZIq_ukzQVwI"
      }
    },
    {
      "cell_type": "code",
      "source": [
        "s1=input(\"enter string 1: \")\n",
        "s2=input(\"enter string 2: \")\n",
        "l=[]\n",
        "for i in s1:\n",
        "  for j in s2:\n",
        "    if i == j and i not in l:\n",
        "      l.append(i)\n",
        "print(len(l))"
      ],
      "metadata": {
        "colab": {
          "base_uri": "https://localhost:8080/"
        },
        "id": "FWEIlwIhQhXe",
        "outputId": "7c80d288-8260-477d-c11f-c95ecce416bb"
      },
      "execution_count": 28,
      "outputs": [
        {
          "output_type": "stream",
          "name": "stdout",
          "text": [
            "enter string 1: abcdef\n",
            "enter string 2: defghia\n",
            "4\n"
          ]
        }
      ]
    }
  ]
}